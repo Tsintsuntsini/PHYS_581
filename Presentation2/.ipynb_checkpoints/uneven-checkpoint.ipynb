{
 "cells": [
  {
   "cell_type": "markdown",
   "metadata": {},
   "source": [
    "# Windowing Diagrams"
   ]
  },
  {
   "cell_type": "markdown",
   "metadata": {},
   "source": [
    "## Rectangular Window"
   ]
  },
  {
   "cell_type": "code",
   "execution_count": 2,
   "metadata": {},
   "outputs": [
    {
     "ename": "ModuleNotFoundError",
     "evalue": "No module named 'astropy'",
     "output_type": "error",
     "traceback": [
      "\u001b[1;31m---------------------------------------------------------------------------\u001b[0m",
      "\u001b[1;31mModuleNotFoundError\u001b[0m                       Traceback (most recent call last)",
      "\u001b[1;32m<ipython-input-2-f8b103e5e915>\u001b[0m in \u001b[0;36m<module>\u001b[1;34m()\u001b[0m\n\u001b[0;32m      3\u001b[0m \u001b[1;32mimport\u001b[0m \u001b[0mmatplotlib\u001b[0m\u001b[1;33m.\u001b[0m\u001b[0mpyplot\u001b[0m \u001b[1;32mas\u001b[0m \u001b[0mplt\u001b[0m\u001b[1;33m\u001b[0m\u001b[0m\n\u001b[0;32m      4\u001b[0m \u001b[1;32mimport\u001b[0m \u001b[0mnumpy\u001b[0m \u001b[1;32mas\u001b[0m \u001b[0mnp\u001b[0m\u001b[1;33m\u001b[0m\u001b[0m\n\u001b[1;32m----> 5\u001b[1;33m \u001b[1;32mfrom\u001b[0m \u001b[0mastropy\u001b[0m\u001b[1;33m.\u001b[0m\u001b[0mstats\u001b[0m \u001b[1;32mimport\u001b[0m \u001b[0mLombScargle\u001b[0m\u001b[1;33m\u001b[0m\u001b[0m\n\u001b[0m\u001b[0;32m      6\u001b[0m \u001b[1;33m\u001b[0m\u001b[0m\n\u001b[0;32m      7\u001b[0m \u001b[0mplt\u001b[0m\u001b[1;33m.\u001b[0m\u001b[0mstyle\u001b[0m\u001b[1;33m.\u001b[0m\u001b[0muse\u001b[0m\u001b[1;33m(\u001b[0m\u001b[1;34m'seaborn-whitegrid'\u001b[0m\u001b[1;33m)\u001b[0m\u001b[1;33m\u001b[0m\u001b[0m\n",
      "\u001b[1;31mModuleNotFoundError\u001b[0m: No module named 'astropy'"
     ]
    }
   ],
   "source": [
    "%matplotlib inline\n",
    "\n",
    "import matplotlib.pyplot as plt\n",
    "import numpy as np\n",
    "from astropy.stats import LombScargle\n",
    "\n",
    "plt.style.use('seaborn-whitegrid')"
   ]
  },
  {
   "cell_type": "code",
   "execution_count": null,
   "metadata": {
    "collapsed": true
   },
   "outputs": [],
   "source": [
    "def delta_funcs(x, h=1, xmin=None, xmax=None):\n",
    "    \"\"\"\n",
    "    Return arrays for plotting delta functions\n",
    "    at locations x with heights h\n",
    "    \"\"\"\n",
    "    if xmin is None:\n",
    "        xmin = min(x) - 1\n",
    "    if xmax is None:\n",
    "        xmax = max(x) + 1\n",
    "    dx = 0.002 * (xmax - xmin)\n",
    "    def vals():\n",
    "        yield (xmin, 0)\n",
    "        for xi, hi in sorted(np.broadcast(x, h)):\n",
    "            yield from zip([xi - dx, xi, xi + dx], [0, hi, 0])\n",
    "        yield (xmax, 0)\n",
    "    return zip(*vals())\n",
    "\n",
    "\n",
    "def rectangular_func(width, height=None, center=0, xmin=None, xmax=None):\n",
    "    \"\"\"\n",
    "    Return arrays for plotting a rectangular function\n",
    "    \"\"\"\n",
    "    if xmin is None:\n",
    "        xmin = min(x) - 1\n",
    "    if xmax is None:\n",
    "        xmax = max(x) + 1\n",
    "    if height is None:\n",
    "        height = 1. / width\n",
    "    left = center - abs(width) / 2\n",
    "    right = center + abs(width) / 2\n",
    "    return  ([xmin, left, left, right, right, xmax],\n",
    "             [0, 0, height, height, 0, 0])"
   ]
  },
  {
   "cell_type": "code",
   "execution_count": null,
   "metadata": {},
   "outputs": [],
   "source": [
    "def FT_plotgrid(sharex='col', sharey='col'):\n",
    "    fig, ax = plt.subplots(3, 2, figsize=(10, 6), sharex=sharex, sharey=sharey)\n",
    "    fig.subplots_adjust(left=0.09, bottom=0.14, right=0.95, top=0.9)\n",
    "    for axi in ax[2]:\n",
    "        left, bottom, width, height = axi.get_position().bounds\n",
    "        axi.set_position([left, bottom - 0.05, width, height])\n",
    "    \n",
    "    for axi in ax[:, 1]:\n",
    "        axi.yaxis.set_major_formatter(plt.NullFormatter())\n",
    "        \n",
    "    for axi, title in zip(ax[:, 1], ['$Signal$', '$Window$', '$Observed$']):\n",
    "        axi.text(1, 0.5, title, transform=axi.transAxes, rotation=-90, ha='left', va='center', fontsize=14)\n",
    "\n",
    "    for xcoord, text in zip([0.77, 0.30], ['$Convolution$', '$Pointwise\\ Product$']):\n",
    "        fig.text(xcoord, 0.36, r'$\\Downarrow$',\n",
    "                 size=24, ha='right', va='center')\n",
    "        fig.text(xcoord + 0.01, 0.36, text,\n",
    "                 size=14, ha='left', va='center')\n",
    "\n",
    "\n",
    "    for ycoord in [0.23, 0.55, 0.82]:\n",
    "        fig.text(0.52, ycoord, \"$FT$\",\n",
    "                 size=14, ha='center', va='bottom')\n",
    "        fig.text(0.52, ycoord, r'$\\Longleftrightarrow$',\n",
    "                 size=24, ha='center', va='top')\n",
    "        \n",
    "    ax[2, 0].set_xlabel('time')\n",
    "    ax[2, 1].set_xlabel('frequency')\n",
    "        \n",
    "    return fig, ax\n",
    "\n",
    "FT_plotgrid();"
   ]
  },
  {
   "cell_type": "code",
   "execution_count": null,
   "metadata": {},
   "outputs": [],
   "source": [
    "fig, ax = FT_plotgrid(sharey=False)\n",
    "    \n",
    "\n",
    "x = np.linspace(-6, 6, 1000)\n",
    "\n",
    "amplitudes = np.array([1.2, 0.8, 0.4, 0.1])\n",
    "frequencies = np.array([1, 2, 3, 4])\n",
    "\n",
    "y = amplitudes @ np.sin(2 * np.pi * frequencies[:, None] * x)\n",
    "\n",
    "yw = y.copy()\n",
    "yw[abs(x) > 3] = 0\n",
    "\n",
    "f = np.linspace(-5, 5, 1000)\n",
    "y_f = amplitudes @ (np.sinc(4 * (f - frequencies[:, None]))\n",
    "                    + np.sinc(4 * (f + frequencies[:, None])))\n",
    "\n",
    "f_delta, y_delta = delta_funcs(np.concatenate([-frequencies, frequencies]),\n",
    "                               np.concatenate([amplitudes, amplitudes]))\n",
    "\n",
    "# Lower left panel: The windowed function\n",
    "ax[2, 0].plot(x, yw, '-k')\n",
    "for axi in ax[:, 0]:\n",
    "    axi.yaxis.set_major_locator(plt.MaxNLocator(5))\n",
    "\n",
    "# Lower right panel: The Fourier Transform\n",
    "ax[2, 1].plot(f, y_f, '-k')\n",
    "for axi in ax[:, 1]:\n",
    "    axi.yaxis.set_major_formatter(plt.NullFormatter())\n",
    "\n",
    "# Upper left panels: signal and window\n",
    "ax[0, 0].plot(x, y, '-k')\n",
    "ax[1, 0].plot(*rectangular_func(6, height=1, xmin=-6, xmax=6), '-k')\n",
    "ax[1, 0].set(ylim=(-0.2, 1.2))\n",
    "\n",
    "# Upper right panels: signal and window transforms\n",
    "ax[0, 1].plot(f_delta, y_delta, '-k')\n",
    "ax[0, 1].set(xlim=(-5, 5),\n",
    "             ylim=(-0.2, max(amplitudes) * 1.1))\n",
    "\n",
    "ax[1, 1].plot(f, np.sinc(f * 4), '-k')\n",
    "ax[1, 1].set(xlim=(-5, 5),\n",
    "             ylim=(-0.4, 1.2));\n",
    "    \n",
    "fig.savefig('fig06_Rectangular_Window.pdf')"
   ]
  },
  {
   "cell_type": "markdown",
   "metadata": {},
   "source": [
    "## Dirac Comb Window"
   ]
  },
  {
   "cell_type": "code",
   "execution_count": null,
   "metadata": {
    "collapsed": true
   },
   "outputs": [],
   "source": [
    "def plot_dirac_comb(T_samp, plot_aliases=False):\n",
    "    fig, ax = FT_plotgrid(sharey='col')\n",
    "\n",
    "    sigma_t = 1\n",
    "    sigma_f = 1. / (2 * np.pi * sigma_t)\n",
    "    def func(t):\n",
    "        return np.exp(-0.5 * (t / sigma_t) ** 2)\n",
    "    def func_FT(f):\n",
    "        return np.exp(-0.5 * (f / sigma_f) ** 2)\n",
    "\n",
    "    t = np.linspace(-5, 5, 1000)\n",
    "    f = np.linspace(-5, 5, 1000)\n",
    "\n",
    "    t_comb = T_samp * np.arange(-5 // T_samp, 5 // T_samp + 1)\n",
    "    f_comb = 1. / T_samp * np.arange(-5 // (1. / T_samp), 5. / (1. / T_samp) + 1)\n",
    "\n",
    "    y_true = func(t)\n",
    "    yhat_true = func_FT(f)\n",
    "\n",
    "    # Lower left panel: The windowed function\n",
    "    ax[2, 0].plot(*delta_funcs(t_comb, func(t_comb)), '-k')\n",
    "    ax[2, 0].text(0.02, 0.96, r'$\\Delta t = {0:.1f}$'.format(T_samp),\n",
    "                  ha='left', va='top', transform=ax[0, 0].transAxes, size=14)\n",
    "\n",
    "    # Lower right panel: The Fourier Transform\n",
    "    if plot_aliases:\n",
    "        ax[2, 1].plot(f, func_FT(f[:, None] - f_comb), '-k', alpha=0.3)\n",
    "    ax[2, 1].plot(f, func_FT(f - f_comb[:, None]).sum(0), '-k')\n",
    "\n",
    "    # Upper left panels: signal and window\n",
    "    ax[0, 0].plot(t, y_true, '-k')\n",
    "\n",
    "    ax[1, 0].plot(*delta_funcs(t_comb), '-k')\n",
    "    ax[1, 0].set(xlim=(-5, 5),\n",
    "                 ylim=(-0.1, 1.1))\n",
    "\n",
    "    # Upper right panels: signal and window transforms\n",
    "    ax[0, 1].plot(f, yhat_true, '-k')\n",
    "\n",
    "    ax[1, 1].plot(*delta_funcs(f_comb), '-k')\n",
    "    ax[1, 1].set(xlim=(-5, 5),\n",
    "                 ylim=(-0.1, 1.1))\n",
    "\n",
    "    return fig"
   ]
  },
  {
   "cell_type": "code",
   "execution_count": null,
   "metadata": {},
   "outputs": [],
   "source": [
    "fig = plot_dirac_comb(T_samp=0.5)\n",
    "fig.savefig('fig07_comb_window_1.pdf')"
   ]
  },
  {
   "cell_type": "code",
   "execution_count": null,
   "metadata": {},
   "outputs": [],
   "source": [
    "fig = plot_dirac_comb(T_samp=1.5, plot_aliases=True)\n",
    "fig.savefig('fig08_comb_window_2.pdf')"
   ]
  },
  {
   "cell_type": "markdown",
   "metadata": {},
   "source": [
    "## Random Observation Times"
   ]
  },
  {
   "cell_type": "code",
   "execution_count": null,
   "metadata": {
    "collapsed": true
   },
   "outputs": [],
   "source": [
    "def plot_random_window(T_samp_avg):\n",
    "    fig, ax = FT_plotgrid(sharey=False)\n",
    "\n",
    "    sigma_t = 1\n",
    "    sigma_f = 1. / (2 * np.pi * sigma_t)\n",
    "    def func(t):\n",
    "        return np.exp(-0.5 * (t / sigma_t) ** 2)\n",
    "    def func_FT(f):\n",
    "        return np.exp(-0.5 * (f / sigma_f) ** 2)\n",
    "\n",
    "    t = np.linspace(-5, 5, 1000)\n",
    "    f = np.linspace(-5, 5, 1000)\n",
    "\n",
    "    rng = np.random.RandomState(54545)\n",
    "    t_comb = -5 + 10 * rng.rand(int(np.ceil(10 / T_samp_avg)))\n",
    "\n",
    "    y_true = func(t)\n",
    "    yhat_true = func_FT(f)\n",
    "\n",
    "    ft_comb = np.exp(-2j * np.pi * t_comb[:, None] * f).sum(0)\n",
    "    yft_comb = np.dot(func(t_comb), np.exp(-2j * np.pi * t_comb[:, None] * f))\n",
    "\n",
    "    # double-check: this gives the same result (up to edge effects)\n",
    "    # computed from the convolution of the transforms\n",
    "    yft_conv = np.convolve(ft_comb, yhat_true, mode='same') / (len(t_comb) * np.sqrt(2 * np.pi))\n",
    "\n",
    "\n",
    "    # Lower left panel: The windowed function\n",
    "    ax[2, 0].plot(*delta_funcs(t_comb, func(t_comb)), '-k')\n",
    "    ax[2, 0].text(0.02, 0.96, r'$avg(\\Delta t) = {0:.2g}$'.format(T_samp_avg),\n",
    "                  ha='left', va='top', transform=ax[0, 0].transAxes, size=14)\n",
    "    ax[2, 0].set(xlim=(-5, 5),\n",
    "                 ylim=(-0.1, 1.1))\n",
    "\n",
    "    # Lower right panel: The Fourier Transform\n",
    "    ax[2, 1].plot(f, yft_comb.imag, '-', color='gray', label='imag')\n",
    "    ax[2, 1].plot(f, yft_comb.real, '-k', label='real')\n",
    "\n",
    "    # Upper left panels: signal and window\n",
    "    ax[0, 0].plot(t, y_true, '-k')\n",
    "    ax[0, 0].set(xlim=(-5, 5),\n",
    "                 ylim=(-0.1, 1.1))\n",
    "\n",
    "    ax[1, 0].plot(*delta_funcs(t_comb), '-k')\n",
    "    ax[1, 0].set(xlim=(-5, 5),\n",
    "                 ylim=(-0.1, 1.1))\n",
    "\n",
    "    # Upper right panels: signal and window transforms\n",
    "    ax[0, 1].plot(f, yhat_true, '-k')\n",
    "    ax[0, 1].set_ylim(-0.1, 1.1)\n",
    "\n",
    "    ax[1, 1].plot(f, ft_comb.imag, '-', color='gray')\n",
    "    ax[1, 1].plot(f, ft_comb.real, '-k')\n",
    "    ax[1, 1].set(xlim=(-5, 5))\n",
    "    \n",
    "    return fig"
   ]
  },
  {
   "cell_type": "code",
   "execution_count": null,
   "metadata": {},
   "outputs": [],
   "source": [
    "fig = plot_random_window(T_samp_avg=0.5)\n",
    "fig.savefig('fig10_random_window.pdf')"
   ]
  },
  {
   "cell_type": "code",
   "execution_count": null,
   "metadata": {},
   "outputs": [],
   "source": [
    "fig = plot_random_window(T_samp_avg=0.05)\n",
    "fig.savefig('fig11_random_window_2.pdf')"
   ]
  }
 ],
 "metadata": {
  "anaconda-cloud": {},
  "kernelspec": {
   "display_name": "Python 3",
   "language": "python",
   "name": "python3"
  }
 },
 "nbformat": 4,
 "nbformat_minor": 1
}
