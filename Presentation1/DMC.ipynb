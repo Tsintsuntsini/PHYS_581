{
 "cells": [
  {
   "cell_type": "code",
   "execution_count": 1,
   "metadata": {
    "collapsed": true
   },
   "outputs": [],
   "source": [
    "import numpy as np"
   ]
  },
  {
   "cell_type": "code",
   "execution_count": null,
   "metadata": {
    "collapsed": true
   },
   "outputs": [],
   "source": [
    "#Quantum Monte Carlo - Diffusion\n",
    "\n",
    "class dmc:\n",
    "    \n",
    "    def __init__(self, num_walkers_start=500, walkers_start_position =0., num_steps = 1000, time_step = 0.1, e_r= 0. //\n",
    "                 burn_in = 300, num_bins = 200, x_min = -20, x_max = 20)\n",
    "    #Initialization\n",
    "    self.num_walkers_start =  num_walkers_start\n",
    "    self.walkers_start_position = walkers_start_position\n",
    "    self.num_steps = num_steps\n",
    "    self.time_step = time_step\n",
    "    self.e_r = e_r\n",
    "    self.burn_in = burn_in\n",
    "    self.num_bins = num_bins\n",
    "    self.x_min = x_min\n",
    "    self.x_max = x_max\n",
    "\n",
    "    def potential_harmonic(x, m, omega):\n",
    "        \"\"\"Computes the potential values at given locations x for a simple harmonic oscillator\n",
    "        Input:  m     :: the mass of the walkers\n",
    "                omega :: the angular frequency of the walkers\n",
    "        \"\"\"      \n",
    "        v = 0.5*m*omega**2*x*2\n",
    "        return v\n",
    "\n",
    "    def potential_morse(x):\n",
    "        \"\"\"Computes the potential values at given locations x for a simple harmonic oscillator\n",
    "        Input:  m     :: the mass of the walkers\n",
    "                omega :: the angular frequency of the walkers\n",
    "        \"\"\"\n",
    "        v = 0.5*(np.exp( -2*a*x ) - 2*np.exp( -a*x ) )\n",
    "        return v\n",
    "\n",
    "    def run_dmc(self, walkers):\n",
    "        \"\"\"Simulates a quantum system using the quantum diffusion method\"\"\"\n",
    "        wave_function = np.zeros(num_bins)\n",
    "        e_0 = []\n",
    "\n",
    "        for i in range(num_steps):\n",
    "            #Perform a random walk\n",
    "            walkers += np.random.normal() * np.sqrt(time_step)\n",
    "            num_walkers_old = walkers.size\n",
    "\n",
    "            #Determine the weight function\n",
    "            energy = np.zeros_like(walkers)                                       #finding the weight for each walker\n",
    "            energy = np.exp(-potential_harmonic(walkers, m, omega) - e_r)\n",
    "            weight = np.int_(energy)                                              #convert to int per the algorithm\n",
    "            new_walkers = np.zeros_like(walkers)                                  #how many new walkers each walker spawns\n",
    "            new_walkers = np.minimum(3, weight)\n",
    "\n",
    "            #Make a new array of walkers\n",
    "            keep = np.take(walkers, new_walkers.compress(new_walkers > 0))        #get an array of each walker still existing\n",
    "            duplicate1 = np.take(walkers, new_walkers.compress(new_walkers > 1))  #get an array of each walker duplicated\n",
    "            duplicate2 = np.take(walkers, new_walkers.compress(new_walkers > 2))  #get an array of each walker twice duplicated\n",
    "            walkers = np.append(keep, duplicate1, duplicate2)                     #combine the above arrays into a complete array of walkers\n",
    "\n",
    "\n",
    "            #Once burn-in is complete, add values to the histogram\n",
    "            if i>burn_in:\n",
    "                hist, bin_edges = np.histogram(walkers, bins=num_bins, range=(x_min, x_max))\n",
    "                wave_function += hist                                             #add the walker distribution at this step to the total distribution\n",
    "                e_0.append(np.mean(energy))                                       #E_0 estimate at this step\n",
    "\n",
    "            #Adjust values for next iteration\n",
    "            e_r = np.mean(energy) + (1. - new_walkers.size / walkers.size)        #NEED TO CHECK UNITS\n",
    "            walkers = new_walkers                                                 #set up walkers for next iteration\n",
    "\n",
    "    return wave_function, bin_edges, e_0\n"
   ]
  },
  {
   "cell_type": "code",
   "execution_count": 13,
   "metadata": {},
   "outputs": [
    {
     "name": "stdout",
     "output_type": "stream",
     "text": [
      "[1 2 3 3 3]\n"
     ]
    }
   ],
   "source": [
    "test = np.array([1.1,2.2,3.1,4.1,5.1])\n",
    "test = np.int_(test)\n",
    "mins = np.full(test.shape, 3)\n",
    "test2 = np.minimum(3,test)\n",
    "print(test2)"
   ]
  }
 ],
 "metadata": {
  "kernelspec": {
   "display_name": "Python 3",
   "language": "python",
   "name": "python3"
  },
  "language_info": {
   "codemirror_mode": {
    "name": "ipython",
    "version": 3
   },
   "file_extension": ".py",
   "mimetype": "text/x-python",
   "name": "python",
   "nbconvert_exporter": "python",
   "pygments_lexer": "ipython3",
   "version": "3.6.1"
  }
 },
 "nbformat": 4,
 "nbformat_minor": 2
}
