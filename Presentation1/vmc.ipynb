{
 "cells": [
  {
   "cell_type": "markdown",
   "metadata": {},
   "source": [
    "# Variational Monte Carlo\n",
    "\n",
    "Using the variational principle\n",
    "\n",
    "$$ E_0 \\leq \\, < \\Psi_T | \\hat{H} | \\Psi_T > $$\n",
    "\n",
    "we can choose any wavefunction for a known Hamiltonian of a system.\n",
    "\n",
    "The goal of the Metropolis random walk is to vary the parameters of the wavefunction $\\Psi_T$ to minimize the ground energy, since the actual ground energy will always be lower. We can calculate the expectation value of our trial wavefunction\n",
    "\n",
    "$$ E_v = \\frac{\\hat{H} \\Psi_T}{\\Psi_T} $$\n",
    "\n",
    "A simple system is the hydrogen atom, which has a one-dimensional Hamiltonian\n",
    "\n",
    "$$ \\hat{H} = -\\frac{1}{2} \\nabla^2 - \\frac{Z}{r} $$"
   ]
  },
  {
   "cell_type": "code",
   "execution_count": 165,
   "metadata": {
    "collapsed": false
   },
   "outputs": [
    {
     "name": "stdout",
     "output_type": "stream",
     "text": [
      "0.95405\n"
     ]
    },
    {
     "data": {
      "image/png": "[encoded data removed]",
      "text/plain": [
       "<matplotlib.figure.Figure at 0x22b8131e7f0>"
      ]
     },
     "metadata": {},
     "output_type": "display_data"
    },
    {
     "data": {
      "image/png": "[encoded data removed]",
      "text/plain": [
       "<matplotlib.figure.Figure at 0x22b8371f7b8>"
      ]
     },
     "metadata": {},
     "output_type": "display_data"
    },
    {
     "data": {
      "image/png": "[encoded data removed]",
      "text/plain": [
       "<matplotlib.figure.Figure at 0x22b83ba8630>"
      ]
     },
     "metadata": {},
     "output_type": "display_data"
    }
   ],
   "source": [
    "# TODO: Calculate acceptance rate\n",
    "\n",
    "import numpy as np\n",
    "import matplotlib.pyplot as plt\n",
    "%matplotlib inline\n",
    "\n",
    "class VMC:\n",
    "    \"\"\"\n",
    "    Parameters\n",
    "    ------------\n",
    "    wavefunction (function): the trial wavefunction.\n",
    "    hamiltonian (function): the hamiltonian of the trial wavefunction.\n",
    "    n_parameters (int): the number of parameters the wavefunction requires.\n",
    "    n_steps (int): the number of steps each walker will take in total.\n",
    "    n_walkers (int): the number of walkers for each parameter.\n",
    "    step_size (float): the maximum step size for each step.\n",
    "    proposal_distribution (function): the sampling distribution for the Metropolis random walk.\n",
    "    kwargs: key-value pairs corresponding to arguments in the proposal distribution.\n",
    "    \"\"\"\n",
    "    def __init__(\n",
    "            self,\n",
    "            wavefunction,\n",
    "            hamiltonian,\n",
    "            n_parameters,\n",
    "            n_steps=20,\n",
    "            n_walkers=100,\n",
    "            step_size=0.1,\n",
    "            proposal_distribution=np.random.normal,\n",
    "            **kwargs\n",
    "    ):\n",
    "        self.Psi = wavefunction\n",
    "        self.H = hamiltonian\n",
    "        self.n_params = n_parameters\n",
    "        \n",
    "        self.n_steps = n_steps\n",
    "        self.n_walkers = n_walkers\n",
    "        self.delta = step_size\n",
    "        \n",
    "        self.proposal = proposal_distribution\n",
    "        self.kwargs = kwargs\n",
    "\n",
    "        # Initalize random configuration of parameters\n",
    "        self.current = np.ones(shape=[self.n_params, self.n_walkers]) * 5\n",
    "        \n",
    "        # Initialize expectation values\n",
    "        self.E = []\n",
    "        \n",
    "        # Initialize acceptance rate\n",
    "        self.accept = {'n_steps': 0, 'n_accepted': 0}\n",
    "\n",
    "    def eval_proposal(self, current, proposal):\n",
    "        \"\"\"Evaluates the probability of a proposed move being accepted.\n",
    "        \"\"\"\n",
    "        ratio = np.abs(self.Psi(proposal))**2 / np.abs(self.Psi(current))**2\n",
    "        probability = np.min([np.ones(ratio.shape), ratio], axis=0)\n",
    "        random = np.random.uniform(low=0, high=1, size=self.current.shape)\n",
    "        return random < probability\n",
    "\n",
    "    def run(self, plot=False, verbose=False):\n",
    "        \"\"\"Runs the entire simulation.\n",
    "        \"\"\"\n",
    "        for step in range(self.n_steps):\n",
    "            self.update()\n",
    "            if verbose:\n",
    "                print(\"Step {}: E = {}\".format(step, self.E[-1]))\n",
    "\n",
    "        return self.E\n",
    "\n",
    "    def update(self, current=None):\n",
    "        \"\"\"Runs the random walk for a single step.\n",
    "        \"\"\"\n",
    "        if current is None:\n",
    "            current = self.current\n",
    "\n",
    "        proposal = current + self.delta * self.proposal(**self.kwargs)\n",
    "        proposal[proposal <= 0.1] = 0.1\n",
    "        acceptance = self.eval_proposal(current, proposal)\n",
    "        proposal = np.where(acceptance, proposal, current)\n",
    "        \n",
    "        weight = self.Psi(proposal) / self.Psi(current)\n",
    "        local = self.H(proposal)\n",
    "        expectation = np.sum(weight * local) / (np.sum(weight))\n",
    "        \n",
    "        self.current = proposal\n",
    "        self.E.append(expectation)\n",
    "        \n",
    "        self.accept = np.sum(1 * acceptance) / (self.n_params * self.n_walkers)\n",
    "        \n",
    "    @property\n",
    "    def acceptance_rate(self):\n",
    "        \"\"\"The average acceptance rate up to the current step.\n",
    "        \"\"\"\n",
    "        return self.accept\n",
    "\n",
    "    @property\n",
    "    def expectation_values(self):\n",
    "        \"\"\"The expectation values up to the electron configuration.\n",
    "        \"\"\"\n",
    "        return self.E\n",
    "\n",
    "    @property\n",
    "    def n_parameters(self):\n",
    "        \"\"\"The number of dimensions of the position vector for each\n",
    "        electron.\n",
    "        \"\"\"\n",
    "        return self.n_params\n",
    "\n",
    "    @property\n",
    "    def step_size(self):\n",
    "        \"\"\"The maximum size of each Metropolis step.\n",
    "        \"\"\"\n",
    "        return self.delta\n",
    "\n",
    "def hydrogen_wavefunction(X):\n",
    "    r, alpha = X[0], X[1]\n",
    "    return np.exp(- alpha * r)\n",
    "\n",
    "def hydrogen_local_energy(X):\n",
    "    r, alpha = X[0], X[1]\n",
    "    E = alpha**2 - 2 * alpha / r\n",
    "    E = - 0.5 * E - 1 / r\n",
    "    return -E\n",
    "\n",
    "\n",
    "vmc = VMC(\n",
    "    wavefunction=hydrogen_wavefunction,\n",
    "    hamiltonian=hydrogen_local_energy,\n",
    "    n_parameters=2,\n",
    "    n_steps=10000,\n",
    "    n_walkers=10000,\n",
    "    step_size=0.2,\n",
    "    proposal_distribution=np.random.normal,\n",
    "    loc=0.0,\n",
    "    scale=0.15,\n",
    "    size=[2, 10000]\n",
    ")\n",
    "\n",
    "vmc.run()\n",
    "print(vmc.acceptance_rate)\n",
    "plt.hist(vmc.current[0], bins=40, normed=True)\n",
    "plt.show()\n",
    "plt.hist(vmc.current[1], bins=40, normed=True)\n",
    "plt.show()\n",
    "plt.plot(vmc.expectation_values)\n",
    "plt.plot(np.ones(vmc.n_walkers) * -0.5)\n",
    "plt.show()   "
   ]
  },
  {
   "cell_type": "code",
   "execution_count": 179,
   "metadata": {
    "collapsed": false
   },
   "outputs": [
    {
     "name": "stdout",
     "output_type": "stream",
     "text": [
      "0.96\n"
     ]
    },
    {
     "data": {
      "image/png": "[encoded data removed]",
      "text/plain": [
       "<matplotlib.figure.Figure at 0x22b8138b518>"
      ]
     },
     "metadata": {},
     "output_type": "display_data"
    },
    {
     "data": {
      "image/png": "[encoded data removed]",
      "text/plain": [
       "<matplotlib.figure.Figure at 0x22b81765a90>"
      ]
     },
     "metadata": {},
     "output_type": "display_data"
    },
    {
     "data": {
      "image/png": "[encoded data removed]",
      "text/plain": [
       "<matplotlib.figure.Figure at 0x22b868e4780>"
      ]
     },
     "metadata": {},
     "output_type": "display_data"
    },
    {
     "data": {
      "image/png": "[encoded data removed]",
      "text/plain": [
       "<matplotlib.figure.Figure at 0x22b81503fd0>"
      ]
     },
     "metadata": {},
     "output_type": "display_data"
    }
   ],
   "source": [
    "def helium_wavefunction(X):\n",
    "    r1, r2, alpha = X[0], X[1], X[2]\n",
    "    return np.exp(- alpha * (r1 + r2))\n",
    "\n",
    "def helium_local_energy(X):\n",
    "    r1, r2, alpha = X[0], X[1], X[2]\n",
    "    return alpha**2 - (27 / 8) * alpha\n",
    "\n",
    "vmc = VMC(\n",
    "    wavefunction=helium_wavefunction,\n",
    "    hamiltonian=helium_local_energy,\n",
    "    n_parameters=3,\n",
    "    n_steps=25000,\n",
    "    n_walkers=1000,\n",
    "    step_size=0.05,\n",
    "    proposal_distribution=np.random.normal,\n",
    "    loc=0.0,\n",
    "    scale=0.15,\n",
    "    size=[3, 1000]\n",
    ")\n",
    "\n",
    "vmc.run()\n",
    "print(vmc.acceptance_rate)\n",
    "plt.hist(vmc.current[0], bins=40, normed=True)\n",
    "plt.show()\n",
    "plt.hist(vmc.current[1], bins=40, normed=True)\n",
    "plt.show()\n",
    "plt.hist(vmc.current[2], bins=40, normed=True)\n",
    "plt.show()\n",
    "plt.plot(vmc.expectation_values)\n",
    "plt.plot(np.ones(vmc.n_steps) * -2.904)\n",
    "plt.show()   "
   ]
  },
  {
   "cell_type": "code",
   "execution_count": 180,
   "metadata": {
    "collapsed": false
   },
   "outputs": [
    {
     "name": "stdout",
     "output_type": "stream",
     "text": [
      "0.936\n"
     ]
    },
    {
     "data": {
      "image/png": "[encoded data removed]",
      "text/plain": [
       "<matplotlib.figure.Figure at 0x22b81612400>"
      ]
     },
     "metadata": {},
     "output_type": "display_data"
    },
    {
     "data": {
      "image/png": "[encoded data removed]",
      "text/plain": [
       "<matplotlib.figure.Figure at 0x22b8118f518>"
      ]
     },
     "metadata": {},
     "output_type": "display_data"
    },
    {
     "data": {
      "image/png": "[encoded data removed]",
      "text/plain": [
       "<matplotlib.figure.Figure at 0x22b8107dba8>"
      ]
     },
     "metadata": {},
     "output_type": "display_data"
    },
    {
     "data": {
      "image/png": "[encoded data removed]",
      "text/plain": [
       "<matplotlib.figure.Figure at 0x22bffee1f60>"
      ]
     },
     "metadata": {},
     "output_type": "display_data"
    }
   ],
   "source": [
    "def helium_wavefunction(X):\n",
    "    r1, r2, alpha = X[0], X[1], X[2]\n",
    "    r12 = np.abs(r1 - r2)\n",
    "    return np.exp(- 2 * r1 - 2 * r2 + r12 / (2 * (1 + alpha * r12)))\n",
    "\n",
    "def helium_local_energy(X):\n",
    "    r1, r2, alpha = X[0], X[1], X[2]\n",
    "    \n",
    "    r12 = np.abs(r1 - r2)\n",
    "    factor = 1 + alpha * r12\n",
    "    \n",
    "    E = -4\n",
    "    E += alpha / factor\n",
    "    E += alpha / factor**2\n",
    "    E += alpha / factor**3\n",
    "    E -= 1 / (4 * factor**4)\n",
    "    \n",
    "    return E\n",
    "    \n",
    "\n",
    "vmc = VMC(\n",
    "    wavefunction=helium_wavefunction,\n",
    "    hamiltonian=helium_local_energy,\n",
    "    n_parameters=3,\n",
    "    n_steps=12000,\n",
    "    n_walkers=10000,\n",
    "    step_size=0.2,\n",
    "    proposal_distribution=np.random.normal,\n",
    "    loc=0.0,\n",
    "    scale=0.15,\n",
    "    size=[3, 10000]\n",
    ")\n",
    "\n",
    "vmc.run()\n",
    "print(vmc.acceptance_rate)\n",
    "plt.hist(vmc.current[0], bins=40, normed=True)\n",
    "plt.show()\n",
    "plt.hist(vmc.current[1], bins=40, normed=True)\n",
    "plt.show()\n",
    "plt.hist(vmc.current[2], bins=40, normed=True)\n",
    "plt.show()\n",
    "plt.plot(vmc.expectation_values)\n",
    "plt.plot(np.ones(vmc.n_steps) * -2.904)\n",
    "plt.show()   "
   ]
  },
  {
   "cell_type": "code",
   "execution_count": null,
   "metadata": {
    "collapsed": true
   },
   "outputs": [],
   "source": []
  }
 ],
 "metadata": {
  "anaconda-cloud": {},
  "kernelspec": {
   "display_name": "Python [conda root]",
   "language": "python",
   "name": "conda-root-py"
  },
  "language_info": {
   "codemirror_mode": {
    "name": "ipython",
    "version": 3
   },
   "file_extension": ".py",
   "mimetype": "text/x-python",
   "name": "python",
   "nbconvert_exporter": "python",
   "pygments_lexer": "ipython3",
   "version": "3.5.2"
  }
 },
 "nbformat": 4,
 "nbformat_minor": 1
}
