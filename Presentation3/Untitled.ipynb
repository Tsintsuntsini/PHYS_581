{
 "cells": [
  {
   "cell_type": "code",
   "execution_count": 1,
   "metadata": {
    "collapsed": true
   },
   "outputs": [],
   "source": [
    "import numpy as np\n",
    "import matplotlib.pyplot as plt\n",
    "%matplotlib inline"
   ]
  },
  {
   "cell_type": "markdown",
   "metadata": {},
   "source": [
    "## Checkerboard Problem"
   ]
  },
  {
   "cell_type": "code",
   "execution_count": 13,
   "metadata": {},
   "outputs": [
    {
     "name": "stderr",
     "output_type": "stream",
     "text": [
      "C:\\ProgramData\\Miniconda3\\lib\\site-packages\\ipykernel_launcher.py:16: ComplexWarning: Casting complex values to real discards the imaginary part\n",
      "  app.launch_new_instance()\n"
     ]
    },
    {
     "data": {
      "text/plain": [
       "<matplotlib.text.Text at 0x1b1093fac18>"
      ]
     },
     "execution_count": 13,
     "metadata": {},
     "output_type": "execute_result"
    },
    {
     "data": {
      "image/png": "[encoded data removed]",
      "text/plain": [
       "<matplotlib.figure.Figure at 0x1b108d505f8>"
      ]
     },
     "metadata": {},
     "output_type": "display_data"
    }
   ],
   "source": [
    "#Consider some non-sensical system where our flux oscillates at a high spacial frequency independent of time.\n",
    "\n",
    "#Set up our grid\n",
    "N = 29\n",
    "time_steps = 7\n",
    "\n",
    "x = np.linspace(0,N,N, dtype='int')\n",
    "y = np.linspace(0,N,N, dtype='int')\n",
    "xx, yy = np.meshgrid(x, y)\n",
    "\n",
    "j = np.zeros((time_steps,N,N))\n",
    "\n",
    "for t in range(time_steps):\n",
    "    for m in range(N):\n",
    "        for n in range(N):\n",
    "            j[t,m,n] = (95/2) * np.exp(1j*np.pi*(xx[m,n] + yy[m,n] + t/2)) + (105/2)\n",
    "        \n",
    "plt.imshow(j[0,2:-2, 2:-2], origin='lower')\n",
    "plt.xlabel('x')\n",
    "plt.ylabel('y')\n",
    "plt.title('Initial Flux Values')\n"
   ]
  },
  {
   "cell_type": "code",
   "execution_count": 14,
   "metadata": {},
   "outputs": [
    {
     "name": "stderr",
     "output_type": "stream",
     "text": [
      "C:\\ProgramData\\Miniconda3\\lib\\site-packages\\ipykernel_launcher.py:12: ComplexWarning: Casting complex values to real discards the imaginary part\n",
      "  if sys.path[0] == '':\n"
     ]
    },
    {
     "data": {
      "image/png": "[encoded data removed]",
      "text/plain": [
       "<matplotlib.figure.Figure at 0x1b108c03940>"
      ]
     },
     "metadata": {},
     "output_type": "display_data"
    }
   ],
   "source": [
    "#Now to test our finite differences on the co-local grid\n",
    "\n",
    "p_expected = np.zeros((time_steps, N,N))\n",
    "p_actual   = np.zeros_like(p_expected)\n",
    "\n",
    "#p_expected[0,:,:] = 300*np.random.random((N,N))\n",
    "#p_actual[0,:,:]   = p_expected[0,:,:]\n",
    "\n",
    "for t in range(1, time_steps):\n",
    "    for m in range(N):\n",
    "        for n in range(N):\n",
    "            p_expected[t,m,n] = 190*np.exp(1j*np.pi*(xx[m,n] + yy[m,n] + t/2))\n",
    "            if ((m > 0) and (m < N-1) and (n >0) and (n < N-1)):\n",
    "                p_actual[t,m,n] = (-j[t,m+1,n] + j[t,m-1,n] - j[t,m,n+1] + j[t,m,n-1] + p_actual[t-1,m,n])\n",
    "               \n",
    "#Now we need to get the bounds of the possible p values to keep our colorbar constant\n",
    "\n",
    "v_min = np.amin(p_expected)\n",
    "v_max = np.amax(p_expected)\n",
    "\n",
    "fig, ax = plt.subplots(2,2,num=1, sharex=True, sharey=True)\n",
    "ax[0,0].imshow(p_expected[0,2:-2,2:-2], origin='lower', vmin=v_min, vmax=v_max, cmap='gnuplot2')\n",
    "ax[0,0].set_ylabel('y position')\n",
    "ax[0,1].imshow(p_expected[2,2:-2,2:-2], origin='lower', vmin=v_min, vmax=v_max, cmap='gnuplot2')\n",
    "ax[1,0].imshow(p_expected[4,2:-2,2:-2], origin='lower', vmin=v_min, vmax=v_max, cmap='gnuplot2')\n",
    "ax[1,0].set_ylabel('y position')\n",
    "ax[1,0].set_xlabel('x position')\n",
    "im = ax[1,1].imshow(p_expected[6,2:-2,2:-2], origin='lower', vmin=v_min, vmax=v_max, cmap='gnuplot2')\n",
    "ax[1,1].set_xlabel('x position')\n",
    "ax[0,0].set_title('t=0', fontsize=8)\n",
    "ax[0,1].set_title('t=2', fontsize=8)\n",
    "ax[1,0].set_title('t=4', fontsize=8)\n",
    "ax[1,1].set_title('t=6', fontsize=8)\n",
    "fig.suptitle('Expected Behaviour')\n",
    "fig.subplots_adjust(right=0.8)\n",
    "cbar_ax = fig.add_axes([0.85, 0.15, 0.05, 0.7])\n",
    "fig.colorbar(im, cax=cbar_ax)\n",
    "fig.savefig('expected_checkerboard', dpi=200)"
   ]
  },
  {
   "cell_type": "code",
   "execution_count": 15,
   "metadata": {},
   "outputs": [
    {
     "data": {
      "image/png": "[encoded data removed]",
      "text/plain": [
       "<matplotlib.figure.Figure at 0x1b108c11710>"
      ]
     },
     "metadata": {},
     "output_type": "display_data"
    }
   ],
   "source": [
    "fig, ax = plt.subplots(2,2,num=2, sharex=True, sharey=True)\n",
    "ax[0,0].imshow(p_actual[0,2:-2,2:-2], origin='lower', vmin=v_min, vmax=v_max, cmap='gnuplot2')\n",
    "ax[0,0].set_ylabel('y position')\n",
    "ax[0,1].imshow(p_actual[2,2:-2,2:-2], origin='lower', vmin=v_min, vmax=v_max, cmap='gnuplot2')\n",
    "ax[1,0].imshow(p_actual[4,2:-2,2:-2], origin='lower', vmin=v_min, vmax=v_max, cmap='gnuplot2')\n",
    "ax[1,0].set_ylabel('y position')\n",
    "ax[1,0].set_xlabel('x position')\n",
    "im = ax[1,1].imshow(p_actual[6,2:-2,2:-2], origin='lower', vmin=v_min, vmax=v_max, cmap='gnuplot2')\n",
    "ax[1,1].set_xlabel('x position')\n",
    "fig.suptitle('Actual Behaviour')\n",
    "ax[0,0].set_title('t=0', fontsize=8)\n",
    "ax[0,1].set_title('t=2', fontsize=8)\n",
    "ax[1,0].set_title('t=4', fontsize=8)\n",
    "ax[1,1].set_title('t=6', fontsize=8)\n",
    "fig.subplots_adjust(right=0.8)\n",
    "cbar_ax = fig.add_axes([0.85, 0.15, 0.05, 0.7])\n",
    "fig.colorbar(im, cax=cbar_ax)\n",
    "fig.savefig('actual_checkerboard', dpi=200)"
   ]
  },
  {
   "cell_type": "code",
   "execution_count": 16,
   "metadata": {},
   "outputs": [
    {
     "name": "stderr",
     "output_type": "stream",
     "text": [
      "C:\\ProgramData\\Miniconda3\\lib\\site-packages\\ipykernel_launcher.py:9: ComplexWarning: Casting complex values to real discards the imaginary part\n",
      "  if __name__ == '__main__':\n"
     ]
    },
    {
     "data": {
      "text/plain": [
       "<matplotlib.image.AxesImage at 0x1b10906f940>"
      ]
     },
     "execution_count": 16,
     "metadata": {},
     "output_type": "execute_result"
    },
    {
     "data": {
      "image/png": "[encoded data removed]",
      "text/plain": [
       "<matplotlib.figure.Figure at 0x1b108efcb38>"
      ]
     },
     "metadata": {},
     "output_type": "display_data"
    }
   ],
   "source": [
    "#Now let's examine the same behaviour with staggered grids.\n",
    "#Let's keep our previous x and y grids, and instead make the j grid in between\n",
    "\n",
    "j = np.zeros((time_steps,N-1,N-1), dtype='int')\n",
    "\n",
    "for t in range(time_steps):\n",
    "    for m in range(N-1):\n",
    "        for n in range(N-1):\n",
    "            j[t,m,n] = (95/2)*np.exp(1j*np.pi*(xx[m,n] + yy[m,n] + 1 + t/2)) + (105/2)\n",
    "            \n",
    "plt.imshow(j[0,2:-2, 2:-2], origin='lower')"
   ]
  },
  {
   "cell_type": "code",
   "execution_count": 17,
   "metadata": {},
   "outputs": [
    {
     "data": {
      "image/png": "[encoded data removed]",
      "text/plain": [
       "<matplotlib.figure.Figure at 0x1b1090c5c50>"
      ]
     },
     "metadata": {},
     "output_type": "display_data"
    }
   ],
   "source": [
    "p_stag = np.zeros((time_steps, N,N))\n",
    "p_stag[0,:,:] = p_expected[0,:,:]\n",
    "\n",
    "for t in range(1, time_steps):\n",
    "    for m in range(N):\n",
    "        for n in range(N):\n",
    "            if ((m > 0) and (m < N-1) and (n> 0) and (n < N-1)):\n",
    "                p_stag[t,m,n] = (-j[t,m,n] + j[t,m-1,n] - j[t,m,n] + j[t,m,n-1] + p_actual[t-1,m,n])\n",
    "    p_stag[t,:2,:] = p_expected[0,:2,:]\n",
    "    p_stag[t,-2:,:] = p_expected[0,-2:,:]\n",
    "    p_stag[t,:,:2] = p_expected[0,:,:2]\n",
    "    p_stag[t,:,-2:] = p_expected[0,:,-2:]\n",
    "                \n",
    "fig, ax = plt.subplots(2,2,num=2, sharex=True, sharey=True)\n",
    "ax[0,0].imshow(p_stag[0,2:-2,2:-2], origin='lower', vmin=v_min, vmax=v_max, cmap='gnuplot2')\n",
    "ax[0,0].set_ylabel('y position')\n",
    "ax[0,1].imshow(p_stag[2,2:-2,2:-2], origin='lower', vmin=v_min, vmax=v_max, cmap='gnuplot2')\n",
    "ax[1,0].imshow(p_stag[4,2:-2,2:-2], origin='lower', vmin=v_min, vmax=v_max, cmap='gnuplot2')\n",
    "ax[1,0].set_ylabel('y position')\n",
    "ax[1,0].set_xlabel('x position')\n",
    "im = ax[1,1].imshow(p_stag[6,2:-2,2:-2], origin='lower', vmin=v_min, vmax=v_max, cmap='gnuplot2')\n",
    "ax[1,1].set_xlabel('x position')\n",
    "fig.suptitle('Staggered Behaviour')\n",
    "ax[0,0].set_title('t=0', fontsize=8)\n",
    "ax[0,1].set_title('t=2', fontsize=8)\n",
    "ax[1,0].set_title('t=4', fontsize=8)\n",
    "ax[1,1].set_title('t=6', fontsize=8)\n",
    "fig.subplots_adjust(right=0.8)\n",
    "cbar_ax = fig.add_axes([0.85, 0.15, 0.05, 0.7])\n",
    "fig.colorbar(im, cax=cbar_ax)\n",
    "fig.savefig('staggered_checkerboard', dpi=200)"
   ]
  },
  {
   "cell_type": "code",
   "execution_count": null,
   "metadata": {
    "collapsed": true
   },
   "outputs": [],
   "source": []
  }
 ],
 "metadata": {
  "kernelspec": {
   "display_name": "Python 3",
   "language": "python",
   "name": "python3"
  },
  "language_info": {
   "codemirror_mode": {
    "name": "ipython",
    "version": 3
   },
   "file_extension": ".py",
   "mimetype": "text/x-python",
   "name": "python",
   "nbconvert_exporter": "python",
   "pygments_lexer": "ipython3",
   "version": "3.6.1"
  }
 },
 "nbformat": 4,
 "nbformat_minor": 2
}
